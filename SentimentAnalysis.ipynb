{
  "nbformat": 4,
  "nbformat_minor": 0,
  "metadata": {
    "colab": {
      "provenance": []
    },
    "kernelspec": {
      "name": "python3",
      "display_name": "Python 3"
    },
    "language_info": {
      "name": "python"
    }
  },
  "cells": [
    {
      "cell_type": "code",
      "source": [
        "!pip install nltk\n",
        "!pip install textblob\n",
        "!pip install newspaper3k"
      ],
      "metadata": {
        "id": "SaB80ff0FJ9S"
      },
      "execution_count": null,
      "outputs": []
    },
    {
      "cell_type": "code",
      "source": [
        "import nltk\n",
        "nltk.download('punkt')"
      ],
      "metadata": {
        "id": "alKrAO_5Gku4"
      },
      "execution_count": null,
      "outputs": []
    },
    {
      "cell_type": "code",
      "source": [
        "from textblob import TextBlob"
      ],
      "metadata": {
        "id": "0NWejx8jFgEn"
      },
      "execution_count": null,
      "outputs": []
    },
    {
      "cell_type": "code",
      "source": [
        "from newspaper import Article"
      ],
      "metadata": {
        "id": "mXAco-WvFp61"
      },
      "execution_count": null,
      "outputs": []
    },
    {
      "cell_type": "code",
      "source": [
        "url='https://en.wikipedia.org/wiki/Adolf_Hitler'"
      ],
      "metadata": {
        "id": "m3c2LIMlGA-E"
      },
      "execution_count": null,
      "outputs": []
    },
    {
      "cell_type": "code",
      "source": [
        "article=Article(url)\n",
        "article.download()\n",
        "article.parse()\n",
        "article.nlp()"
      ],
      "metadata": {
        "id": "weYAwPnSGK2o"
      },
      "execution_count": null,
      "outputs": []
    },
    {
      "cell_type": "code",
      "source": [
        "text=article.summary"
      ],
      "metadata": {
        "id": "SFK4V505GshT"
      },
      "execution_count": null,
      "outputs": []
    },
    {
      "cell_type": "code",
      "source": [
        "blob=TextBlob(text)\n",
        "sentiment=blob.sentiment.polarity\n",
        "print(sentiment)"
      ],
      "metadata": {
        "colab": {
          "base_uri": "https://localhost:8080/"
        },
        "id": "H_vuNBlaG-Ol",
        "outputId": "5c92e1d8-cbce-41ac-d9cd-6b60e47646fe"
      },
      "execution_count": null,
      "outputs": [
        {
          "output_type": "stream",
          "name": "stdout",
          "text": [
            "-0.04722222222222223\n"
          ]
        }
      ]
    }
  ]
}